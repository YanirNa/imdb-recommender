{
 "cells": [
  {
   "cell_type": "code",
   "execution_count": 14,
   "metadata": {},
   "outputs": [],
   "source": [
    "from bs4 import BeautifulSoup as bs \n",
    "import requests\n",
    "import pandas as pd\n",
    "import numpy as np\n",
    "from time import sleep\n",
    "import pprint"
   ]
  },
  {
   "cell_type": "code",
   "execution_count": 15,
   "metadata": {},
   "outputs": [],
   "source": [
    "#WITHOUT HEADERS WE WILL GET ERROR 403 \n",
    "headers = {\n",
    "    'User-Agent': 'Mozilla/5.0 (Windows NT 10.0; Win64; x64) AppleWebKit/537.36 (KHTML, like Gecko) Chrome/91.0.4472.124 Safari/537.36'\n",
    "}\n",
    "#LISTS VALUES FROM SCRAPE\n",
    "movie_name = []\n",
    "year = []\n",
    "duration = [] \n",
    "rate =[]\n",
    "picture_url = []\n",
    "category = []\n",
    "director = []"
   ]
  },
  {
   "cell_type": "code",
   "execution_count": 16,
   "metadata": {},
   "outputs": [],
   "source": [
    "#movie_name,year,duration,category,rate,director,actors,picture_url\n",
    "pages=[1,2,3,4,5,6,7,8,9,10]\n",
    "for num_page in pages:\n",
    "    imdb_movies_url = 'https://www.imdb.com/list/ls048276758/?sort=moviemeter,asc&st_dt=&mode=detail&page='+str(num_page)\n",
    "    page = requests.get(imdb_movies_url,headers=headers)\n",
    "    soup = bs(page.content,'html.parser')\n",
    "    data_per_movie = soup.findAll('div', attrs = {'class': 'lister-item mode-detail'})\n",
    "    #Must put sleep - without the request may crash\n",
    "    sleep(4)\n",
    "   \n",
    "    for store in data_per_movie:\n",
    "        if store.h3.a.text is not None:\n",
    "            name = store.h3.a.text\n",
    "            movie_name.append(name)\n",
    "        else: movie_name.append(None)\n",
    "\n",
    "\n",
    "        if store.h3.find('span', class_ = \"lister-item-year text-muted unbold\") is not None:\n",
    "            year_of_release = store.h3.find('span', class_ = \"lister-item-year text-muted unbold\").text.replace('(','').replace(')','')\n",
    "            year.append(year_of_release)\n",
    "        else:year.append(None)\n",
    "\n",
    "        if store.p.find('span', class_ = 'runtime') is not None:            \n",
    "            time = int(store.p.find('span', class_ = 'runtime').text.replace(' min',''))\n",
    "            duration.append(time)\n",
    "        else: duration.append(None)\n",
    "\n",
    "        if store.p.find('span', class_ = 'genre') is not None:     \n",
    "            categories = store.p.find('span', class_ = 'genre').text.replace(\"\\n\", \"\").rstrip().split(',')\n",
    "            category.append(categories)\n",
    "        else:category.append(None)\n",
    "\n",
    "        if store.find('span', class_ = \"ipl-rating-star__rating\") is not None:\n",
    "            rating = float(store.find('span', class_ = \"ipl-rating-star__rating\").text)\n",
    "            rate.append(rating)\n",
    "        else:rate.append(None)\n",
    "\n",
    "        #Success only the first director\n",
    "        if store.findAll('p',class_ = 'text-muted text-small')[1] is not None:\n",
    "            directors_sections = store.findAll('p',class_ = 'text-muted text-small')[1]\n",
    "            if directors_sections.find('a') is not None:\n",
    "                director_name = directors_sections.find('a').text\n",
    "                director.append(director_name)\n",
    "            else:director.append(None)\n",
    "        else:director.append(None)\n",
    "\n",
    "        if store.find('div', class_ = \"lister-item-image ribbonize\") is not None:\n",
    "            pic_section = store.find('div', class_ = \"lister-item-image ribbonize\")\n",
    "            if pic_section.find('img', class_='loadlate')['loadlate'] is not None:           \n",
    "                pic_url = pic_section.find('img', class_='loadlate')['loadlate']\n",
    "                picture_url.append(pic_url)\n",
    "            else:picture_url.append(None)\n",
    "        else:picture_url.append(None)\n",
    "\n",
    "        \n",
    "      #TRY-EXCEPT not suit here because we need to fill the values per section   \n",
    "  \n",
    "  \n"
   ]
  },
  {
   "cell_type": "code",
   "execution_count": 17,
   "metadata": {},
   "outputs": [
    {
     "name": "stdout",
     "output_type": "stream",
     "text": [
      "1000\n",
      "1000\n",
      "1000\n",
      "1000\n",
      "1000\n",
      "1000\n",
      "1000\n"
     ]
    }
   ],
   "source": [
    "print(len(movie_name))\n",
    "print(len(year))\n",
    "print(len(duration))\n",
    "print(len(category))\n",
    "print(len(director))\n",
    "print(len(rate))\n",
    "print(len(picture_url))"
   ]
  },
  {
   "cell_type": "code",
   "execution_count": 18,
   "metadata": {},
   "outputs": [],
   "source": [
    "#creating a dataframe \n",
    "movie_list = pd.DataFrame({ \"Movie Name\": movie_name,\\\n",
    "                            \"Year of Release\" : year,\\\n",
    "                            \"Duration (Min)\": duration,\\\n",
    "                            \"Genres\": category,\\\n",
    "                            \"Director\" : director,\\\n",
    "                            \"Movie Rating\": rate,\\\n",
    "                            \"Photo URL\":picture_url\n",
    "                            })"
   ]
  },
  {
   "cell_type": "code",
   "execution_count": 22,
   "metadata": {},
   "outputs": [
    {
     "data": {
      "text/plain": [
       "0      https://m.media-amazon.com/images/M/MV5BNDE3OD...\n",
       "1      https://m.media-amazon.com/images/M/MV5BM2MyNj...\n",
       "2      https://m.media-amazon.com/images/M/MV5BMTMxNT...\n",
       "3      https://m.media-amazon.com/images/M/MV5BNGNhMD...\n",
       "4      https://m.media-amazon.com/images/M/MV5BMjAxMz...\n",
       "                             ...                        \n",
       "995    https://m.media-amazon.com/images/M/MV5BOTMwMD...\n",
       "996    https://m.media-amazon.com/images/M/MV5BMTE1MT...\n",
       "997    https://m.media-amazon.com/images/M/MV5BOTgwMD...\n",
       "998    https://m.media-amazon.com/images/M/MV5BZGRkMW...\n",
       "999    https://m.media-amazon.com/images/M/MV5BOWNjYz...\n",
       "Name: Photo URL, Length: 1000, dtype: object"
      ]
     },
     "execution_count": 22,
     "metadata": {},
     "output_type": "execute_result"
    }
   ],
   "source": [
    "movie_list['Photo URL']"
   ]
  },
  {
   "cell_type": "code",
   "execution_count": 28,
   "metadata": {},
   "outputs": [],
   "source": [
    "#save to excl just for verify by hand\n",
    "movie_list.to_excel('movies.xlsx')"
   ]
  },
  {
   "cell_type": "code",
   "execution_count": 64,
   "metadata": {},
   "outputs": [],
   "source": [
    "# save the data in csv format\n",
    "movie_list.to_csv(\"movies.csv\")"
   ]
  }
 ],
 "metadata": {
  "kernelspec": {
   "display_name": "venv",
   "language": "python",
   "name": "python3"
  },
  "language_info": {
   "codemirror_mode": {
    "name": "ipython",
    "version": 3
   },
   "file_extension": ".py",
   "mimetype": "text/x-python",
   "name": "python",
   "nbconvert_exporter": "python",
   "pygments_lexer": "ipython3",
   "version": "3.11.7"
  }
 },
 "nbformat": 4,
 "nbformat_minor": 2
}
