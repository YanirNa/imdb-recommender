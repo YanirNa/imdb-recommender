{
 "cells": [
  {
   "cell_type": "code",
   "execution_count": 48,
   "metadata": {},
   "outputs": [],
   "source": [
    "from bs4 import BeautifulSoup as bs \n",
    "import requests\n",
    "import pandas as pd\n",
    "import numpy as np\n",
    "from time import sleep\n",
    "import pprint"
   ]
  },
  {
   "cell_type": "code",
   "execution_count": 49,
   "metadata": {},
   "outputs": [],
   "source": [
    "#WITHOUT HEADERS WE WILL GET ERROR 403 \n",
    "headers = {\n",
    "    'User-Agent': 'Mozilla/5.0 (Windows NT 10.0; Win64; x64) AppleWebKit/537.36 (KHTML, like Gecko) Chrome/91.0.4472.124 Safari/537.36'\n",
    "}\n",
    "#LISTS VALUES FROM SCRAPE\n",
    "movie_name = []\n",
    "year = []\n",
    "duration = [] \n",
    "rate =[]\n",
    "picture_url = []\n",
    "category = []\n",
    "director = []"
   ]
  },
  {
   "cell_type": "code",
   "execution_count": 50,
   "metadata": {},
   "outputs": [],
   "source": [
    "#movie_name,year,duration,category,rate,director,actors,picture_url\n",
    "pages=[1,2,3,4,5,6,7,8,9,10]\n",
    "for num_page in pages:\n",
    "    imdb_movies_url = 'https://www.imdb.com/list/ls048276758/?sort=moviemeter,asc&st_dt=&mode=detail&page='+str(num_page)\n",
    "    page = requests.get(imdb_movies_url,headers=headers)\n",
    "    soup = bs(page.content,'html.parser')\n",
    "    data_per_movie = soup.findAll('div', attrs = {'class': 'lister-item mode-detail'})\n",
    "    #Must put sleep - without the request may crash\n",
    "    sleep(4)\n",
    "   \n",
    "    for store in data_per_movie:\n",
    "        if store.h3.a.text is not None:\n",
    "            name = store.h3.a.text\n",
    "            movie_name.append(name)\n",
    "        else: movie_name.append(None)\n",
    "\n",
    "\n",
    "        if store.h3.find('span', class_ = \"lister-item-year text-muted unbold\") is not None:\n",
    "            year_of_release = store.h3.find('span', class_ = \"lister-item-year text-muted unbold\").text.replace('(','').replace(')','')\n",
    "            year.append(year_of_release)\n",
    "        else:year.append(None)\n",
    "\n",
    "        if store.p.find('span', class_ = 'runtime') is not None:            \n",
    "            time = int(store.p.find('span', class_ = 'runtime').text.replace(' min',''))\n",
    "            duration.append(time)\n",
    "        else: duration.append(None)\n",
    "\n",
    "        if store.p.find('span', class_ = 'genre') is not None:     \n",
    "            categories = store.p.find('span', class_ = 'genre').text.replace(\"\\n\", \"\").rstrip().split(',')\n",
    "            category.append(categories)\n",
    "        else:category.append(None)\n",
    "\n",
    "        if store.find('span', class_ = \"ipl-rating-star__rating\") is not None:\n",
    "            rating = float(store.find('span', class_ = \"ipl-rating-star__rating\").text)\n",
    "            rate.append(rating)\n",
    "        else:rate.append(None)\n",
    "\n",
    "        #Success only the first director\n",
    "        if store.findAll('p',class_ = 'text-muted text-small')[1] is not None:\n",
    "            directors_sections = store.findAll('p',class_ = 'text-muted text-small')[1]\n",
    "            if directors_sections.find('a') is not None:\n",
    "                director_name = directors_sections.find('a').text\n",
    "                director.append(director_name)\n",
    "            else:director.append(None)\n",
    "        else:director.append(None)\n",
    "        \n",
    "      #TRY-EXCEPT not suit here because we need to fill the values per section   \n",
    "  \n",
    "  \n"
   ]
  },
  {
   "cell_type": "code",
   "execution_count": 61,
   "metadata": {},
   "outputs": [],
   "source": [
    "#creating a dataframe \n",
    "movie_list = pd.DataFrame({ \"Movie Name\": movie_name,\\\n",
    "                            \"Year of Release\" : year,\\\n",
    "                            \"Duration (Min)\": duration,\\\n",
    "                            \"Genres\": category,\\\n",
    "                            \"Director\" : director,\\\n",
    "                            \"Movie Rating\": rate\n",
    "                            })"
   ]
  },
  {
   "cell_type": "code",
   "execution_count": 69,
   "metadata": {},
   "outputs": [
    {
     "name": "stdout",
     "output_type": "stream",
     "text": [
      "<class 'pandas.core.frame.DataFrame'>\n",
      "RangeIndex: 1000 entries, 0 to 999\n",
      "Data columns (total 6 columns):\n",
      " #   Column           Non-Null Count  Dtype  \n",
      "---  ------           --------------  -----  \n",
      " 0   Movie Name       1000 non-null   object \n",
      " 1   Year of Release  1000 non-null   object \n",
      " 2   Duration (Min)   1000 non-null   int64  \n",
      " 3   Genres           999 non-null    object \n",
      " 4   Director         1000 non-null   object \n",
      " 5   Movie Rating     1000 non-null   float64\n",
      "dtypes: float64(1), int64(1), object(4)\n",
      "memory usage: 47.0+ KB\n"
     ]
    }
   ],
   "source": [
    "movie_list.describe()\n",
    "movie_list.info()"
   ]
  },
  {
   "cell_type": "code",
   "execution_count": 64,
   "metadata": {},
   "outputs": [],
   "source": [
    "# save the data in csv format\n",
    "movie_list.to_csv(\"movies.csv\")"
   ]
  }
 ],
 "metadata": {
  "kernelspec": {
   "display_name": "venv",
   "language": "python",
   "name": "python3"
  },
  "language_info": {
   "codemirror_mode": {
    "name": "ipython",
    "version": 3
   },
   "file_extension": ".py",
   "mimetype": "text/x-python",
   "name": "python",
   "nbconvert_exporter": "python",
   "pygments_lexer": "ipython3",
   "version": "3.11.7"
  }
 },
 "nbformat": 4,
 "nbformat_minor": 2
}
