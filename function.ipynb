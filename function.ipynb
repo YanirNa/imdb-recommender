{
 "cells": [
  {
   "cell_type": "code",
   "execution_count": null,
   "metadata": {},
   "outputs": [],
   "source": [
    "import pandas as pd \n",
    "import numpy as np\n",
    "from sklearn.feature_extraction.text  import TfidfVectorizer\n",
    "from sklearn.metrics.pairwise import linear_kernel\n",
    "\n"
   ]
  },
  {
   "cell_type": "code",
   "execution_count": null,
   "metadata": {},
   "outputs": [],
   "source": [
    "df_movies = pd.read_csv('movies_imdb.csv') \n",
    "df_movies.head()"
   ]
  },
  {
   "cell_type": "code",
   "execution_count": null,
   "metadata": {},
   "outputs": [],
   "source": [
    "df_movies.rename(columns={'Unnamed: 0': 'movie_id' })"
   ]
  },
  {
   "cell_type": "code",
   "execution_count": null,
   "metadata": {},
   "outputs": [],
   "source": [
    "def import_features(df_movies):\n",
    "    dataset = df_movies.copy()\n",
    "    for i in range(0,df_movies.shape[0]):\n",
    "        dataset['Tags'] = dataset['Movie Name']+' '+ dataset['Genres']+' '+dataset['Director']+' '+ dataset['Description']\n",
    "    return dataset\n",
    "\n",
    "\n",
    "dataset = import_features(df_movies)"
   ]
  },
  {
   "cell_type": "code",
   "execution_count": null,
   "metadata": {},
   "outputs": [],
   "source": [
    "dataset['Tags'] = dataset['Tags'].fillna('')\n",
    "dataset['Tags']"
   ]
  },
  {
   "cell_type": "code",
   "execution_count": null,
   "metadata": {},
   "outputs": [],
   "source": [
    "tfidf = TfidfVectorizer(stop_words='english')\n",
    "tfidf_matrix = tfidf.fit_transform(dataset['Tags'])"
   ]
  },
  {
   "cell_type": "code",
   "execution_count": null,
   "metadata": {},
   "outputs": [],
   "source": [
    "cosine_sim = linear_kernel(tfidf_matrix,tfidf_matrix)"
   ]
  },
  {
   "cell_type": "code",
   "execution_count": null,
   "metadata": {},
   "outputs": [],
   "source": [
    "indices = pd.Series(dataset.index, index = dataset['Movie Name']).drop_duplicates()\n",
    "indices"
   ]
  },
  {
   "cell_type": "code",
   "execution_count": null,
   "metadata": {},
   "outputs": [],
   "source": [
    "indices['The Dark Knight']"
   ]
  },
  {
   "cell_type": "code",
   "execution_count": null,
   "metadata": {},
   "outputs": [],
   "source": [
    "def get_reccommendation_other_movies(title,cosine_sim = cosine_sim):\n",
    "    try:\n",
    "        #title.casefold()\n",
    "        idx = indices[title]\n",
    "        sim_scores = enumerate(cosine_sim[idx])\n",
    "        sim_scores = sorted(sim_scores, key=lambda x: x[1], reverse=True)\n",
    "        sim_scores = sim_scores[1:11]\n",
    "        sim_index = [i[0] for i in sim_scores]\n",
    "        print(dataset['Movie Name'].iloc[sim_index])\n",
    "    except KeyError:\n",
    "        print(f\"Movie '{title}' not found in the dataset.\")\n",
    "\n",
    "get_reccommendation_other_movies('Ugetsu monogatari')"
   ]
  },
  {
   "cell_type": "code",
   "execution_count": null,
   "metadata": {},
   "outputs": [],
   "source": []
  }
 ],
 "metadata": {
  "kernelspec": {
   "display_name": "venv",
   "language": "python",
   "name": "python3"
  },
  "language_info": {
   "codemirror_mode": {
    "name": "ipython",
    "version": 3
   },
   "file_extension": ".py",
   "mimetype": "text/x-python",
   "name": "python",
   "nbconvert_exporter": "python",
   "pygments_lexer": "ipython3",
   "version": "3.11.7"
  }
 },
 "nbformat": 4,
 "nbformat_minor": 2
}
